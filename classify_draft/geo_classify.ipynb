{
 "cells": [
  {
   "cell_type": "code",
   "execution_count": 17,
   "metadata": {},
   "outputs": [],
   "source": [
    "import pycountry\n",
    "import os\n",
    "import numpy as np\n",
    "import lang2vec.lang2vec as l2v\n",
    "from sklearn import preprocessing, neighbors, linear_model, multioutput"
   ]
  },
  {
   "cell_type": "code",
   "execution_count": 18,
   "metadata": {},
   "outputs": [],
   "source": [
    "source_dir = \"/data/rrjin/Graduation/data/bible-corpus/parallel_text\""
   ]
  },
  {
   "cell_type": "code",
   "execution_count": 19,
   "metadata": {},
   "outputs": [],
   "source": [
    "def get_language_alpha3(language_code):\n",
    "    ans = None\n",
    "    if len(language_code) == 2:\n",
    "        ans = pycountry.languages.get(alpha_2 = language_code)\n",
    "    elif len(language_code) == 3:\n",
    "        ans = pycountry.languages.get(alpha_3 = language_code)\n",
    "    else:\n",
    "        return \"-1\"\n",
    "    if ans is not None:\n",
    "        return ans.alpha_3\n",
    "    else:\n",
    "        return \"unkown language\""
   ]
  },
  {
   "cell_type": "code",
   "execution_count": 20,
   "metadata": {},
   "outputs": [],
   "source": [
    "def check_alpha3(alpha3):\n",
    "    if alpha3 != \"unkown language\" and alpha3 in l2v.LANGUAGES:\n",
    "        return True\n",
    "    return False"
   ]
  },
  {
   "cell_type": "code",
   "execution_count": 21,
   "metadata": {},
   "outputs": [],
   "source": [
    "langcode_to_alpha3 = {}\n",
    "langcode_to_alpha3[\"jap\"] = \"jpn\""
   ]
  },
  {
   "cell_type": "code",
   "execution_count": 22,
   "metadata": {},
   "outputs": [],
   "source": [
    "for data_set in os.listdir(source_dir):\n",
    "    s = data_set[:-4]\n",
    "    language1, language2 = s.split(\"-\")\n",
    "    language1_alpha3, language2_alpha3 = get_language_alpha3(language1), get_language_alpha3(language2)\n",
    "    if check_alpha3(language1_alpha3):\n",
    "        langcode_to_alpha3[language1] = language1_alpha3\n",
    "    if check_alpha3(language2_alpha3):\n",
    "        langcode_to_alpha3[language2] = language2_alpha3"
   ]
  },
  {
   "cell_type": "code",
   "execution_count": 23,
   "metadata": {},
   "outputs": [
    {
     "data": {
      "text/plain": [
       "96"
      ]
     },
     "execution_count": 23,
     "metadata": {},
     "output_type": "execute_result"
    }
   ],
   "source": [
    "len(langcode_to_alpha3)"
   ]
  },
  {
   "cell_type": "code",
   "execution_count": 24,
   "metadata": {},
   "outputs": [],
   "source": [
    "lang_alpha3 = list(langcode_to_alpha3.values())"
   ]
  },
  {
   "cell_type": "code",
   "execution_count": 25,
   "metadata": {},
   "outputs": [
    {
     "data": {
      "text/plain": [
       "96"
      ]
     },
     "execution_count": 25,
     "metadata": {},
     "output_type": "execute_result"
    }
   ],
   "source": [
    "len(lang_alpha3)"
   ]
  },
  {
   "cell_type": "code",
   "execution_count": 26,
   "metadata": {},
   "outputs": [],
   "source": [
    "feature_name = \"syntax_wals\""
   ]
  },
  {
   "cell_type": "code",
   "execution_count": 27,
   "metadata": {},
   "outputs": [],
   "source": [
    "features = l2v.get_features(lang_alpha3, feature_name, header=True)"
   ]
  },
  {
   "cell_type": "code",
   "execution_count": 28,
   "metadata": {},
   "outputs": [
    {
     "data": {
      "text/plain": [
       "['S_SVO',\n",
       " 'S_SOV',\n",
       " 'S_VSO',\n",
       " 'S_VOS',\n",
       " 'S_OVS',\n",
       " 'S_OSV',\n",
       " 'S_SUBJECT_BEFORE_VERB',\n",
       " 'S_SUBJECT_AFTER_VERB',\n",
       " 'S_OBJECT_AFTER_VERB',\n",
       " 'S_OBJECT_BEFORE_VERB',\n",
       " 'S_SUBJECT_BEFORE_OBJECT',\n",
       " 'S_SUBJECT_AFTER_OBJECT',\n",
       " 'S_GENDER_MARK',\n",
       " 'S_SEX_MARK',\n",
       " 'S_DEFINITE_AFFIX',\n",
       " 'S_DEFINITE_WORD',\n",
       " 'S_INDEFINITE_AFFIX',\n",
       " 'S_INDEFINITE_WORD',\n",
       " 'S_POSSESSIVE_PREFIX',\n",
       " 'S_POSSESSIVE_SUFFIX',\n",
       " 'S_ADPOSITION_BEFORE_NOUN',\n",
       " 'S_ADPOSITION_AFTER_NOUN',\n",
       " 'S_POSSESSOR_BEFORE_NOUN',\n",
       " 'S_POSSESSOR_AFTER_NOUN',\n",
       " 'S_ADJECTIVE_BEFORE_NOUN',\n",
       " 'S_ADJECTIVE_AFTER_NOUN',\n",
       " 'S_DEMONSTRATIVE_WORD_BEFORE_NOUN',\n",
       " 'S_DEMONSTRATIVE_WORD_AFTER_NOUN',\n",
       " 'S_DEMONSTRATIVE_PREFIX',\n",
       " 'S_DEMONSTRATIVE_SUFFIX',\n",
       " 'S_NUMERAL_BEFORE_NOUN',\n",
       " 'S_NUMERAL_AFTER_NOUN',\n",
       " 'S_RELATIVE_BEFORE_NOUN',\n",
       " 'S_RELATIVE_AFTER_NOUN',\n",
       " 'S_RELATIVE_AROUND_NOUN',\n",
       " 'S_NOMINATIVE_VS_ACCUSATIVE_MARK',\n",
       " 'S_ERGATIVE_VS_ABSOLUTIVE_MARK',\n",
       " 'S_NEGATIVE_WORD_BEFORE_VERB',\n",
       " 'S_NEGATIVE_PREFIX',\n",
       " 'S_NEGATIVE_WORD_AFTER_VERB',\n",
       " 'S_NEGATIVE_SUFFIX',\n",
       " 'S_NEGATIVE_WORD_BEFORE_SUBJECT',\n",
       " 'S_NEGATIVE_WORD_AFTER_SUBJECT',\n",
       " 'S_NEGATIVE_WORD_BEFORE_OBJECT',\n",
       " 'S_NEGATIVE_WORD_AFTER_OBJECT',\n",
       " 'S_NEGATIVE_WORD_INITIAL',\n",
       " 'S_NEGATIVE_WORD_FINAL',\n",
       " 'S_NEGATIVE_WORD_ADJACENT_BEFORE_VERB',\n",
       " 'S_NEGATIVE_WORD_ADJACENT_AFTER_VERB',\n",
       " 'S_PLURAL_PREFIX',\n",
       " 'S_PLURAL_SUFFIX',\n",
       " 'S_PLURAL_WORD',\n",
       " 'S_OBJECT_HEADMARK',\n",
       " 'S_OBJECT_DEPMARK',\n",
       " 'S_POSSESSIVE_HEADMARK',\n",
       " 'S_POSSESSIVE_DEPMARK',\n",
       " 'S_TEND_HEADMARK',\n",
       " 'S_TEND_DEPMARK',\n",
       " 'S_TEND_PREFIX',\n",
       " 'S_TEND_SUFFIX',\n",
       " 'S_ANY_REDUP',\n",
       " 'S_CASE_PREFIX',\n",
       " 'S_CASE_SUFFIX',\n",
       " 'S_CASE_PROCLITIC',\n",
       " 'S_CASE_ENCLITIC',\n",
       " 'S_CASE_MARK',\n",
       " 'S_COMITATIVE_VS_INSTRUMENTAL_MARK',\n",
       " 'S_NUMCLASS_MARK',\n",
       " 'S_ADJECTIVE_WITHOUT_NOUN',\n",
       " 'S_PERFECTIVE_VS_IMPERFECTIVE_MARK',\n",
       " 'S_PAST_VS_PRESENT_MARK',\n",
       " 'S_FUTURE_AFFIX',\n",
       " 'S_TAM_PREFIX',\n",
       " 'S_TAM_SUFFIX',\n",
       " 'S_DEGREE_WORD_BEFORE_ADJECTIVE',\n",
       " 'S_DEGREE_WORD_AFTER_ADJECTIVE',\n",
       " 'S_POLARQ_MARK_INITIAL',\n",
       " 'S_POLARQ_MARK_FINAL',\n",
       " 'S_POLARQ_MARK_SECOND',\n",
       " 'S_POLARQ_WORD',\n",
       " 'S_POLARQ_AFFIX',\n",
       " 'S_SUBORDINATOR_WORD_BEFORE_CLAUSE',\n",
       " 'S_SUBORDINATOR_WORD_AFTER_CLAUSE',\n",
       " 'S_SUBORDINATOR_SUFFIX',\n",
       " 'S_PROSUBJECT_WORD',\n",
       " 'S_PROSUBJECT_AFFIX',\n",
       " 'S_PROSUBJECT_CLITIC',\n",
       " 'S_NEGATIVE_AFFIX',\n",
       " 'S_NEGATIVE_WORD',\n",
       " 'S_ANY_AGREEMENT_ON_ADJECTIVES',\n",
       " 'S_COMPLEMENTIZER_WORD_BEFORE_CLAUSE',\n",
       " 'S_COMPLEMENTIZER_WORD_AFTER_CLAUSE',\n",
       " 'S_VOX',\n",
       " 'S_XVO',\n",
       " 'S_XOV',\n",
       " 'S_OXV',\n",
       " 'S_OVX',\n",
       " 'S_OBLIQUE_AFTER_VERB',\n",
       " 'S_OBLIQUE_AFTER_OBJECT',\n",
       " 'S_OBLIQUE_BEFORE_VERB',\n",
       " 'S_OBLIQUE_BEFORE_OBJECT',\n",
       " 'S_ARTICLE_WORD_BEFORE_NOUN',\n",
       " 'S_ARTICLE_WORD_AFTER_NOUN']"
      ]
     },
     "execution_count": 28,
     "metadata": {},
     "output_type": "execute_result"
    }
   ],
   "source": [
    "features[\"CODE\"]"
   ]
  },
  {
   "cell_type": "code",
   "execution_count": 32,
   "metadata": {},
   "outputs": [],
   "source": [
    "features_geo = l2v.get_features(lang_alpha3, \"geo\", header=True)"
   ]
  },
  {
   "cell_type": "code",
   "execution_count": 33,
   "metadata": {},
   "outputs": [
    {
     "data": {
      "text/plain": [
       "(299, 299)"
      ]
     },
     "execution_count": 33,
     "metadata": {},
     "output_type": "execute_result"
    }
   ],
   "source": [
    "len(features_geo[\"eng\"]), len(features_geo[\"CODE\"])"
   ]
  },
  {
   "cell_type": "code",
   "execution_count": 55,
   "metadata": {},
   "outputs": [],
   "source": [
    "X = [features_geo[lang] for lang in lang_alpha3]"
   ]
  },
  {
   "cell_type": "code",
   "execution_count": 56,
   "metadata": {},
   "outputs": [
    {
     "data": {
      "text/plain": [
       "(96, 299)"
      ]
     },
     "execution_count": 56,
     "metadata": {},
     "output_type": "execute_result"
    }
   ],
   "source": [
    "len(X), len(X[0])"
   ]
  },
  {
   "cell_type": "code",
   "execution_count": 57,
   "metadata": {},
   "outputs": [],
   "source": [
    "train_rate = 0.7"
   ]
  },
  {
   "cell_type": "code",
   "execution_count": 64,
   "metadata": {},
   "outputs": [],
   "source": [
    "X_train = X[:int(len(X)*train_rate)]"
   ]
  },
  {
   "cell_type": "code",
   "execution_count": 66,
   "metadata": {},
   "outputs": [
    {
     "data": {
      "text/plain": [
       "67"
      ]
     },
     "execution_count": 66,
     "metadata": {},
     "output_type": "execute_result"
    }
   ],
   "source": [
    "len(X_train)"
   ]
  },
  {
   "cell_type": "code",
   "execution_count": 67,
   "metadata": {},
   "outputs": [],
   "source": [
    "X_test = X[int(len(X)*train_rate):]"
   ]
  },
  {
   "cell_type": "code",
   "execution_count": 68,
   "metadata": {},
   "outputs": [
    {
     "data": {
      "text/plain": [
       "29"
      ]
     },
     "execution_count": 68,
     "metadata": {},
     "output_type": "execute_result"
    }
   ],
   "source": [
    "len(X_test)"
   ]
  },
  {
   "cell_type": "code",
   "execution_count": 71,
   "metadata": {},
   "outputs": [],
   "source": [
    "score_dict = {}"
   ]
  },
  {
   "cell_type": "code",
   "execution_count": 72,
   "metadata": {},
   "outputs": [
    {
     "name": "stdout",
     "output_type": "stream",
     "text": [
      "Feature S_SVO accuracy is 0.5862068965517241\n",
      "Feature S_SOV accuracy is 0.5172413793103449\n",
      "Feature S_VSO accuracy is 0.6551724137931034\n",
      "Feature S_VOS accuracy is 0.7241379310344828\n",
      "Feature S_OVS accuracy is 0.7586206896551724\n",
      "Feature S_OSV accuracy is 0.7586206896551724\n",
      "Feature S_SUBJECT_BEFORE_VERB accuracy is 0.7241379310344828\n",
      "Feature S_SUBJECT_AFTER_VERB accuracy is 0.6206896551724138\n",
      "Feature S_OBJECT_AFTER_VERB accuracy is 0.6551724137931034\n",
      "Feature S_OBJECT_BEFORE_VERB accuracy is 0.5517241379310345\n",
      "Feature S_SUBJECT_BEFORE_OBJECT accuracy is 0.7241379310344828\n",
      "Feature S_SUBJECT_AFTER_OBJECT accuracy is 0.7241379310344828\n",
      "Feature S_GENDER_MARK accuracy is 0.6206896551724138\n",
      "Feature S_SEX_MARK accuracy is 0.6551724137931034\n",
      "Feature S_DEFINITE_AFFIX accuracy is 0.5517241379310345\n",
      "Feature S_DEFINITE_WORD accuracy is 0.4482758620689655\n",
      "Feature S_INDEFINITE_AFFIX accuracy is 0.6206896551724138\n",
      "Feature S_INDEFINITE_WORD accuracy is 0.41379310344827586\n",
      "Feature S_POSSESSIVE_PREFIX accuracy is 0.5862068965517241\n",
      "Feature S_POSSESSIVE_SUFFIX accuracy is 0.4482758620689655\n",
      "Feature S_ADPOSITION_BEFORE_NOUN accuracy is 0.4827586206896552\n",
      "Feature S_ADPOSITION_AFTER_NOUN accuracy is 0.4827586206896552\n",
      "Feature S_POSSESSOR_BEFORE_NOUN accuracy is 0.4827586206896552\n",
      "Feature S_POSSESSOR_AFTER_NOUN accuracy is 0.41379310344827586\n",
      "Feature S_ADJECTIVE_BEFORE_NOUN accuracy is 0.6206896551724138\n",
      "Feature S_ADJECTIVE_AFTER_NOUN accuracy is 0.6551724137931034\n",
      "Feature S_DEMONSTRATIVE_WORD_BEFORE_NOUN accuracy is 0.6206896551724138\n",
      "Feature S_DEMONSTRATIVE_WORD_AFTER_NOUN accuracy is 0.5172413793103449\n",
      "Feature S_DEMONSTRATIVE_PREFIX accuracy is 0.7586206896551724\n",
      "Feature S_DEMONSTRATIVE_SUFFIX accuracy is 0.6896551724137931\n",
      "Feature S_NUMERAL_BEFORE_NOUN accuracy is 0.6551724137931034\n",
      "Feature S_NUMERAL_AFTER_NOUN accuracy is 0.6896551724137931\n",
      "Feature S_RELATIVE_BEFORE_NOUN accuracy is 0.4827586206896552\n",
      "Feature S_RELATIVE_AFTER_NOUN accuracy is 0.5517241379310345\n",
      "Feature S_RELATIVE_AROUND_NOUN accuracy is 0.5862068965517241\n",
      "Feature S_NOMINATIVE_VS_ACCUSATIVE_MARK accuracy is 0.7586206896551724\n",
      "Feature S_ERGATIVE_VS_ABSOLUTIVE_MARK accuracy is 0.8620689655172413\n",
      "Feature S_NEGATIVE_WORD_BEFORE_VERB accuracy is 0.6551724137931034\n",
      "Feature S_NEGATIVE_PREFIX accuracy is 0.6551724137931034\n",
      "Feature S_NEGATIVE_WORD_AFTER_VERB accuracy is 0.7586206896551724\n",
      "Feature S_NEGATIVE_SUFFIX accuracy is 0.6206896551724138\n",
      "Feature S_NEGATIVE_WORD_BEFORE_SUBJECT accuracy is 0.6551724137931034\n",
      "Feature S_NEGATIVE_WORD_AFTER_SUBJECT accuracy is 0.4827586206896552\n",
      "Feature S_NEGATIVE_WORD_BEFORE_OBJECT accuracy is 0.41379310344827586\n",
      "Feature S_NEGATIVE_WORD_AFTER_OBJECT accuracy is 0.6896551724137931\n",
      "Feature S_NEGATIVE_WORD_INITIAL accuracy is 0.6896551724137931\n",
      "Feature S_NEGATIVE_WORD_FINAL accuracy is 0.6551724137931034\n",
      "Feature S_NEGATIVE_WORD_ADJACENT_BEFORE_VERB accuracy is 0.4827586206896552\n",
      "Feature S_NEGATIVE_WORD_ADJACENT_AFTER_VERB accuracy is 0.6551724137931034\n",
      "Feature S_PLURAL_PREFIX accuracy is 0.6551724137931034\n",
      "Feature S_PLURAL_SUFFIX accuracy is 0.6551724137931034\n",
      "Feature S_PLURAL_WORD accuracy is 0.6551724137931034\n",
      "Feature S_OBJECT_HEADMARK accuracy is 0.7931034482758621\n",
      "Feature S_OBJECT_DEPMARK accuracy is 0.7931034482758621\n",
      "Feature S_POSSESSIVE_HEADMARK accuracy is 0.7931034482758621\n",
      "Feature S_POSSESSIVE_DEPMARK accuracy is 0.8620689655172413\n",
      "Feature S_TEND_HEADMARK accuracy is 0.8620689655172413\n",
      "Feature S_TEND_DEPMARK accuracy is 0.7931034482758621\n",
      "Feature S_TEND_PREFIX accuracy is 0.7241379310344828\n",
      "Feature S_TEND_SUFFIX accuracy is 0.6206896551724138\n",
      "Feature S_ANY_REDUP accuracy is 0.6896551724137931\n",
      "Feature S_CASE_PREFIX accuracy is 0.6551724137931034\n",
      "Feature S_CASE_SUFFIX accuracy is 0.5862068965517241\n",
      "Feature S_CASE_PROCLITIC accuracy is 0.7241379310344828\n",
      "Feature S_CASE_ENCLITIC accuracy is 0.8275862068965517\n",
      "Feature S_CASE_MARK accuracy is 0.5862068965517241\n",
      "Feature S_COMITATIVE_VS_INSTRUMENTAL_MARK accuracy is 0.5862068965517241\n",
      "Feature S_NUMCLASS_MARK accuracy is 0.7586206896551724\n",
      "Feature S_ADJECTIVE_WITHOUT_NOUN accuracy is 0.7586206896551724\n",
      "Feature S_PERFECTIVE_VS_IMPERFECTIVE_MARK accuracy is 0.5172413793103449\n",
      "Feature S_PAST_VS_PRESENT_MARK accuracy is 0.5517241379310345\n",
      "Feature S_FUTURE_AFFIX accuracy is 0.4827586206896552\n",
      "Feature S_TAM_PREFIX accuracy is 0.5517241379310345\n",
      "Feature S_TAM_SUFFIX accuracy is 0.4827586206896552\n",
      "Feature S_DEGREE_WORD_BEFORE_ADJECTIVE accuracy is 0.6551724137931034\n",
      "Feature S_DEGREE_WORD_AFTER_ADJECTIVE accuracy is 0.5517241379310345\n",
      "Feature S_POLARQ_MARK_INITIAL accuracy is 0.5172413793103449\n",
      "Feature S_POLARQ_MARK_FINAL accuracy is 0.4827586206896552\n",
      "Feature S_POLARQ_MARK_SECOND accuracy is 0.5517241379310345\n",
      "Feature S_POLARQ_WORD accuracy is 0.5172413793103449\n",
      "Feature S_POLARQ_AFFIX accuracy is 0.6551724137931034\n",
      "Feature S_SUBORDINATOR_WORD_BEFORE_CLAUSE accuracy is 0.5517241379310345\n",
      "Feature S_SUBORDINATOR_WORD_AFTER_CLAUSE accuracy is 0.5517241379310345\n",
      "Feature S_SUBORDINATOR_SUFFIX accuracy is 0.5517241379310345\n",
      "Feature S_PROSUBJECT_WORD accuracy is 0.6206896551724138\n",
      "Feature S_PROSUBJECT_AFFIX accuracy is 0.6206896551724138\n",
      "Feature S_PROSUBJECT_CLITIC accuracy is 0.6896551724137931\n",
      "Feature S_NEGATIVE_AFFIX accuracy is 0.5517241379310345\n",
      "Feature S_NEGATIVE_WORD accuracy is 0.5517241379310345\n",
      "Feature S_ANY_AGREEMENT_ON_ADJECTIVES has only one class!\n",
      "Feature S_COMPLEMENTIZER_WORD_BEFORE_CLAUSE has only one class!\n",
      "Feature S_COMPLEMENTIZER_WORD_AFTER_CLAUSE has only one class!\n",
      "Feature S_VOX accuracy is 0.7586206896551724\n",
      "Feature S_XVO accuracy is 0.7586206896551724\n",
      "Feature S_XOV accuracy is 0.7586206896551724\n",
      "Feature S_OXV accuracy is 0.7586206896551724\n",
      "Feature S_OVX accuracy is 0.7586206896551724\n",
      "Feature S_OBLIQUE_AFTER_VERB accuracy is 0.7586206896551724\n",
      "Feature S_OBLIQUE_AFTER_OBJECT accuracy is 0.7586206896551724\n",
      "Feature S_OBLIQUE_BEFORE_VERB accuracy is 0.7586206896551724\n",
      "Feature S_OBLIQUE_BEFORE_OBJECT accuracy is 0.7586206896551724\n",
      "Feature S_ARTICLE_WORD_BEFORE_NOUN has only one class!\n",
      "Feature S_ARTICLE_WORD_AFTER_NOUN has only one class!\n"
     ]
    }
   ],
   "source": [
    "for feat in range(len(features[\"CODE\"])):\n",
    "    Y = [features[lang][feat] if features[lang][feat] != \"--\" else -1 for lang in lang_alpha3]\n",
    "    lab_enc = preprocessing.LabelEncoder()\n",
    "    Y = lab_enc.fit_transform(Y)\n",
    "    \n",
    "    Y_train = Y[:int(len(X)*train_rate)]\n",
    "    Y_test = Y[int(len(X)*train_rate):]\n",
    "    \n",
    "    if np.all(np.array(Y_train) == Y_train[0]):\n",
    "        print(\"Feature {} has only one class!\".format(features[\"CODE\"][feat]))\n",
    "        continue\n",
    "    \n",
    "    logistic_model = linear_model.LogisticRegression(max_iter=3000)\n",
    "    clf = logistic_model.fit(X_train, Y_train)\n",
    "    score = clf.score(X_test, Y_test)\n",
    "    score_dict[features[\"CODE\"][feat]] = score\n",
    "    print(\"Feature {} accuracy is {}\".format(features[\"CODE\"][feat], score))"
   ]
  },
  {
   "cell_type": "code",
   "execution_count": 93,
   "metadata": {},
   "outputs": [
    {
     "data": {
      "text/plain": [
       "98"
      ]
     },
     "execution_count": 93,
     "metadata": {},
     "output_type": "execute_result"
    }
   ],
   "source": [
    "len(score_dict)"
   ]
  },
  {
   "cell_type": "code",
   "execution_count": 74,
   "metadata": {},
   "outputs": [],
   "source": [
    "import matplotlib.pyplot as plt"
   ]
  },
  {
   "cell_type": "code",
   "execution_count": 75,
   "metadata": {},
   "outputs": [],
   "source": [
    "%matplotlib inline"
   ]
  },
  {
   "cell_type": "code",
   "execution_count": 82,
   "metadata": {},
   "outputs": [],
   "source": [
    "x = list(range(6))"
   ]
  },
  {
   "cell_type": "code",
   "execution_count": 86,
   "metadata": {},
   "outputs": [],
   "source": [
    "y = list(score_dict.values())[:6]"
   ]
  },
  {
   "cell_type": "code",
   "execution_count": 90,
   "metadata": {},
   "outputs": [],
   "source": [
    "label = list(score_dict.keys())[:6]"
   ]
  },
  {
   "cell_type": "code",
   "execution_count": 91,
   "metadata": {},
   "outputs": [
    {
     "data": {
      "text/plain": [
       "['S_SVO', 'S_SOV', 'S_VSO', 'S_VOS', 'S_OVS', 'S_OSV']"
      ]
     },
     "execution_count": 91,
     "metadata": {},
     "output_type": "execute_result"
    }
   ],
   "source": [
    "label"
   ]
  },
  {
   "cell_type": "code",
   "execution_count": 92,
   "metadata": {},
   "outputs": [
    {
     "data": {
      "text/plain": [
       "<BarContainer object of 6 artists>"
      ]
     },
     "execution_count": 92,
     "metadata": {},
     "output_type": "execute_result"
    },
    {
     "data": {
      "image/png": "[encoded data removed]",
      "text/plain": [
       "<Figure size 432x288 with 1 Axes>"
      ]
     },
     "metadata": {
      "needs_background": "light"
     },
     "output_type": "display_data"
    }
   ],
   "source": [
    "plt.barh(x, y, tick_label = label)"
   ]
  },
  {
   "cell_type": "code",
   "execution_count": null,
   "metadata": {},
   "outputs": [],
   "source": []
  }
 ],
 "metadata": {
  "kernelspec": {
   "display_name": "Python 3",
   "language": "python",
   "name": "python3"
  },
  "language_info": {
   "codemirror_mode": {
    "name": "ipython",
    "version": 3
   },
   "file_extension": ".py",
   "mimetype": "text/x-python",
   "name": "python",
   "nbconvert_exporter": "python",
   "pygments_lexer": "ipython3",
   "version": "3.7.7"
  }
 },
 "nbformat": 4,
 "nbformat_minor": 4
}
